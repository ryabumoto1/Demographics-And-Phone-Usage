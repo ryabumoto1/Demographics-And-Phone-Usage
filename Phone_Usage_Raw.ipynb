{
 "cells": [
  {
   "cell_type": "markdown",
   "id": "d73c4ad1-0996-42c3-886e-a27fd8a048e4",
   "metadata": {
    "tags": []
   },
   "source": [
    "### Loading, Modifying, and Cleaning dataset\n",
    "---"
   ]
  },
  {
   "cell_type": "code",
   "execution_count": null,
   "id": "d0fd95a7-e211-4bfc-82a5-3f26723d9aeb",
   "metadata": {},
   "outputs": [],
   "source": [
    "import pandas as pd"
   ]
  },
  {
   "cell_type": "code",
   "execution_count": 59,
   "id": "0f8844d1-5053-44b2-b7fd-14fd2e49dd49",
   "metadata": {
    "tags": []
   },
   "outputs": [],
   "source": [
    "#load dataset\n",
    "df = pd.read_csv('Downloads/dummy_data.csv')"
   ]
  },
  {
   "cell_type": "code",
   "execution_count": 60,
   "id": "2ee26baa-5594-471b-aed1-ec7347d0ccab",
   "metadata": {
    "tags": []
   },
   "outputs": [
    {
     "data": {
      "text/html": [
       "<div>\n",
       "<style scoped>\n",
       "    .dataframe tbody tr th:only-of-type {\n",
       "        vertical-align: middle;\n",
       "    }\n",
       "\n",
       "    .dataframe tbody tr th {\n",
       "        vertical-align: top;\n",
       "    }\n",
       "\n",
       "    .dataframe thead th {\n",
       "        text-align: right;\n",
       "    }\n",
       "</style>\n",
       "<table border=\"1\" class=\"dataframe\">\n",
       "  <thead>\n",
       "    <tr style=\"text-align: right;\">\n",
       "      <th></th>\n",
       "      <th>age</th>\n",
       "      <th>gender</th>\n",
       "      <th>time_spent</th>\n",
       "      <th>platform</th>\n",
       "      <th>interests</th>\n",
       "      <th>location</th>\n",
       "      <th>demographics</th>\n",
       "      <th>profession</th>\n",
       "      <th>income</th>\n",
       "      <th>indebt</th>\n",
       "      <th>isHomeOwner</th>\n",
       "      <th>Owns_Car</th>\n",
       "    </tr>\n",
       "  </thead>\n",
       "  <tbody>\n",
       "    <tr>\n",
       "      <th>0</th>\n",
       "      <td>56</td>\n",
       "      <td>male</td>\n",
       "      <td>3</td>\n",
       "      <td>Instagram</td>\n",
       "      <td>Sports</td>\n",
       "      <td>United Kingdom</td>\n",
       "      <td>Urban</td>\n",
       "      <td>Software Engineer</td>\n",
       "      <td>19774</td>\n",
       "      <td>True</td>\n",
       "      <td>False</td>\n",
       "      <td>False</td>\n",
       "    </tr>\n",
       "    <tr>\n",
       "      <th>1</th>\n",
       "      <td>46</td>\n",
       "      <td>female</td>\n",
       "      <td>2</td>\n",
       "      <td>Facebook</td>\n",
       "      <td>Travel</td>\n",
       "      <td>United Kingdom</td>\n",
       "      <td>Urban</td>\n",
       "      <td>Student</td>\n",
       "      <td>10564</td>\n",
       "      <td>True</td>\n",
       "      <td>True</td>\n",
       "      <td>True</td>\n",
       "    </tr>\n",
       "    <tr>\n",
       "      <th>2</th>\n",
       "      <td>32</td>\n",
       "      <td>male</td>\n",
       "      <td>8</td>\n",
       "      <td>Instagram</td>\n",
       "      <td>Sports</td>\n",
       "      <td>Australia</td>\n",
       "      <td>Sub_Urban</td>\n",
       "      <td>Marketer Manager</td>\n",
       "      <td>13258</td>\n",
       "      <td>False</td>\n",
       "      <td>False</td>\n",
       "      <td>False</td>\n",
       "    </tr>\n",
       "    <tr>\n",
       "      <th>3</th>\n",
       "      <td>60</td>\n",
       "      <td>non-binary</td>\n",
       "      <td>5</td>\n",
       "      <td>Instagram</td>\n",
       "      <td>Travel</td>\n",
       "      <td>United Kingdom</td>\n",
       "      <td>Urban</td>\n",
       "      <td>Student</td>\n",
       "      <td>12500</td>\n",
       "      <td>False</td>\n",
       "      <td>True</td>\n",
       "      <td>False</td>\n",
       "    </tr>\n",
       "    <tr>\n",
       "      <th>4</th>\n",
       "      <td>25</td>\n",
       "      <td>male</td>\n",
       "      <td>1</td>\n",
       "      <td>Instagram</td>\n",
       "      <td>Lifestlye</td>\n",
       "      <td>Australia</td>\n",
       "      <td>Urban</td>\n",
       "      <td>Software Engineer</td>\n",
       "      <td>14566</td>\n",
       "      <td>False</td>\n",
       "      <td>True</td>\n",
       "      <td>True</td>\n",
       "    </tr>\n",
       "  </tbody>\n",
       "</table>\n",
       "</div>"
      ],
      "text/plain": [
       "   age      gender  time_spent   platform  interests        location  \\\n",
       "0   56        male           3  Instagram     Sports  United Kingdom   \n",
       "1   46      female           2   Facebook     Travel  United Kingdom   \n",
       "2   32        male           8  Instagram     Sports       Australia   \n",
       "3   60  non-binary           5  Instagram     Travel  United Kingdom   \n",
       "4   25        male           1  Instagram  Lifestlye       Australia   \n",
       "\n",
       "  demographics         profession  income  indebt  isHomeOwner  Owns_Car  \n",
       "0        Urban  Software Engineer   19774    True        False     False  \n",
       "1        Urban            Student   10564    True         True      True  \n",
       "2    Sub_Urban   Marketer Manager   13258   False        False     False  \n",
       "3        Urban            Student   12500   False         True     False  \n",
       "4        Urban  Software Engineer   14566   False         True      True  "
      ]
     },
     "execution_count": 60,
     "metadata": {},
     "output_type": "execute_result"
    }
   ],
   "source": [
    "#show first 5 rows of DataFrame\n",
    "df.head(5)"
   ]
  },
  {
   "cell_type": "code",
   "execution_count": 61,
   "id": "afef22af-562e-4ef9-86e5-e2009b732900",
   "metadata": {
    "tags": []
   },
   "outputs": [
    {
     "data": {
      "text/html": [
       "<div>\n",
       "<style scoped>\n",
       "    .dataframe tbody tr th:only-of-type {\n",
       "        vertical-align: middle;\n",
       "    }\n",
       "\n",
       "    .dataframe tbody tr th {\n",
       "        vertical-align: top;\n",
       "    }\n",
       "\n",
       "    .dataframe thead th {\n",
       "        text-align: right;\n",
       "    }\n",
       "</style>\n",
       "<table border=\"1\" class=\"dataframe\">\n",
       "  <thead>\n",
       "    <tr style=\"text-align: right;\">\n",
       "      <th></th>\n",
       "      <th>age</th>\n",
       "      <th>gender</th>\n",
       "      <th>time_spent</th>\n",
       "      <th>platform</th>\n",
       "      <th>interests</th>\n",
       "      <th>location</th>\n",
       "      <th>demographics</th>\n",
       "      <th>profession</th>\n",
       "      <th>income</th>\n",
       "      <th>indebt</th>\n",
       "      <th>isHomeOwner</th>\n",
       "      <th>Owns_Car</th>\n",
       "    </tr>\n",
       "  </thead>\n",
       "  <tbody>\n",
       "    <tr>\n",
       "      <th>995</th>\n",
       "      <td>22</td>\n",
       "      <td>female</td>\n",
       "      <td>8</td>\n",
       "      <td>Instagram</td>\n",
       "      <td>Lifestlye</td>\n",
       "      <td>United Kingdom</td>\n",
       "      <td>Rural</td>\n",
       "      <td>Marketer Manager</td>\n",
       "      <td>18536</td>\n",
       "      <td>False</td>\n",
       "      <td>True</td>\n",
       "      <td>False</td>\n",
       "    </tr>\n",
       "    <tr>\n",
       "      <th>996</th>\n",
       "      <td>40</td>\n",
       "      <td>non-binary</td>\n",
       "      <td>6</td>\n",
       "      <td>YouTube</td>\n",
       "      <td>Travel</td>\n",
       "      <td>United Kingdom</td>\n",
       "      <td>Rural</td>\n",
       "      <td>Software Engineer</td>\n",
       "      <td>12711</td>\n",
       "      <td>True</td>\n",
       "      <td>False</td>\n",
       "      <td>False</td>\n",
       "    </tr>\n",
       "    <tr>\n",
       "      <th>997</th>\n",
       "      <td>27</td>\n",
       "      <td>non-binary</td>\n",
       "      <td>5</td>\n",
       "      <td>YouTube</td>\n",
       "      <td>Travel</td>\n",
       "      <td>United Kingdom</td>\n",
       "      <td>Rural</td>\n",
       "      <td>Student</td>\n",
       "      <td>17595</td>\n",
       "      <td>True</td>\n",
       "      <td>False</td>\n",
       "      <td>True</td>\n",
       "    </tr>\n",
       "    <tr>\n",
       "      <th>998</th>\n",
       "      <td>61</td>\n",
       "      <td>female</td>\n",
       "      <td>4</td>\n",
       "      <td>YouTube</td>\n",
       "      <td>Sports</td>\n",
       "      <td>Australia</td>\n",
       "      <td>Sub_Urban</td>\n",
       "      <td>Marketer Manager</td>\n",
       "      <td>16273</td>\n",
       "      <td>True</td>\n",
       "      <td>True</td>\n",
       "      <td>False</td>\n",
       "    </tr>\n",
       "    <tr>\n",
       "      <th>999</th>\n",
       "      <td>19</td>\n",
       "      <td>female</td>\n",
       "      <td>8</td>\n",
       "      <td>YouTube</td>\n",
       "      <td>Travel</td>\n",
       "      <td>Australia</td>\n",
       "      <td>Rural</td>\n",
       "      <td>Student</td>\n",
       "      <td>16284</td>\n",
       "      <td>False</td>\n",
       "      <td>True</td>\n",
       "      <td>False</td>\n",
       "    </tr>\n",
       "  </tbody>\n",
       "</table>\n",
       "</div>"
      ],
      "text/plain": [
       "     age      gender  time_spent   platform  interests        location  \\\n",
       "995   22      female           8  Instagram  Lifestlye  United Kingdom   \n",
       "996   40  non-binary           6    YouTube     Travel  United Kingdom   \n",
       "997   27  non-binary           5    YouTube     Travel  United Kingdom   \n",
       "998   61      female           4    YouTube     Sports       Australia   \n",
       "999   19      female           8    YouTube     Travel       Australia   \n",
       "\n",
       "    demographics         profession  income  indebt  isHomeOwner  Owns_Car  \n",
       "995        Rural   Marketer Manager   18536   False         True     False  \n",
       "996        Rural  Software Engineer   12711    True        False     False  \n",
       "997        Rural            Student   17595    True        False      True  \n",
       "998    Sub_Urban   Marketer Manager   16273    True         True     False  \n",
       "999        Rural            Student   16284   False         True     False  "
      ]
     },
     "execution_count": 61,
     "metadata": {},
     "output_type": "execute_result"
    }
   ],
   "source": [
    "#show last 5 rows of DataFrame\n",
    "df.tail(5)"
   ]
  },
  {
   "cell_type": "code",
   "execution_count": 62,
   "id": "44c8eab3-aac4-4db8-baab-7f9b51386197",
   "metadata": {
    "tags": []
   },
   "outputs": [
    {
     "data": {
      "text/plain": [
       "Index(['age', 'gender', 'time_spent', 'platform', 'interests', 'location',\n",
       "       'demographics', 'profession', 'income', 'indebt', 'isHomeOwner',\n",
       "       'Owns_Car'],\n",
       "      dtype='object')"
      ]
     },
     "execution_count": 62,
     "metadata": {},
     "output_type": "execute_result"
    }
   ],
   "source": [
    "#shows columns in DataFrame\n",
    "df.columns"
   ]
  },
  {
   "cell_type": "code",
   "execution_count": 63,
   "id": "67f366b4-0030-4dbf-ab5a-275438a5017d",
   "metadata": {
    "tags": []
   },
   "outputs": [
    {
     "name": "stdout",
     "output_type": "stream",
     "text": [
      "age             0\n",
      "gender          0\n",
      "time_spent      0\n",
      "platform        0\n",
      "interests       0\n",
      "location        0\n",
      "demographics    0\n",
      "profession      0\n",
      "income          0\n",
      "indebt          0\n",
      "isHomeOwner     0\n",
      "Owns_Car        0\n",
      "dtype: int64\n"
     ]
    }
   ],
   "source": [
    "#check/display and empty values in dataset\n",
    "empty_values = df.isnull().sum()\n",
    "print(empty_values)"
   ]
  },
  {
   "cell_type": "markdown",
   "id": "158ad331-ec7b-4fc7-baf7-5cdfbbc3cbb7",
   "metadata": {
    "tags": []
   },
   "source": [
    "---\n",
    "*After we have confirmed the Columns and checked if there were any empty values we can now remove the columns that we are not going to be using for the analysis.*\n"
   ]
  },
  {
   "cell_type": "code",
   "execution_count": 64,
   "id": "3bb432ae-267e-4ed1-a04b-b42fc4ba283c",
   "metadata": {
    "tags": []
   },
   "outputs": [],
   "source": [
    "#remove unwanted columns and save dataset as 'modified'\n",
    "columns_to_drop = ['isHomeOwner', 'Owns_Car', 'indebt', 'income', 'profession']\n",
    "\n",
    "df.drop(columns = columns_to_drop, inplace = True)\n",
    "\n",
    "df.to_csv('modified_dummy_data.csv', index = False)"
   ]
  },
  {
   "cell_type": "code",
   "execution_count": 40,
   "id": "025f08aa-6940-4e17-b162-4a2c5f11d072",
   "metadata": {
    "tags": []
   },
   "outputs": [
    {
     "data": {
      "text/plain": [
       "Index(['age', 'gender', 'time_spent', 'platform', 'interests', 'location',\n",
       "       'demographics'],\n",
       "      dtype='object')"
      ]
     },
     "execution_count": 40,
     "metadata": {},
     "output_type": "execute_result"
    }
   ],
   "source": [
    "#show updated columns\n",
    "df.columns"
   ]
  },
  {
   "cell_type": "markdown",
   "id": "886b4c61-ca96-4fb0-8518-95194aefce37",
   "metadata": {},
   "source": [
    "*We've removed isHomeOwner, Owns_Car, indebt, income, and profession as they are not necessary for this specific analysis*\n",
    "___"
   ]
  },
  {
   "cell_type": "code",
   "execution_count": null,
   "id": "7e469b4d-a801-4eaf-a396-ca6c2114ba04",
   "metadata": {},
   "outputs": [],
   "source": []
  }
 ],
 "metadata": {
  "kernelspec": {
   "display_name": "Python 3 (ipykernel)",
   "language": "python",
   "name": "python3"
  },
  "language_info": {
   "codemirror_mode": {
    "name": "ipython",
    "version": 3
   },
   "file_extension": ".py",
   "mimetype": "text/x-python",
   "name": "python",
   "nbconvert_exporter": "python",
   "pygments_lexer": "ipython3",
   "version": "3.11.5"
  }
 },
 "nbformat": 4,
 "nbformat_minor": 5
}
